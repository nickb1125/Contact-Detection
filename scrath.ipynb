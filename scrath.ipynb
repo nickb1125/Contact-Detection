{
 "cells": [
  {
   "cell_type": "code",
   "execution_count": 4,
   "metadata": {},
   "outputs": [],
   "source": [
    "import pandas as pd\n",
    "import numpy as np\n",
    "import cv2\n",
    "import matplotlib.pyplot as plt\n",
    "import os\n",
    "from tqdm import tqdm\n",
    "from pytorchvideo.data.encoded_video import EncodedVideo\n",
    "import torch\n",
    "from torch.utils.data import Dataset, DataLoader\n",
    "import torchvision.transforms as transforms\n",
    "import torch.optim as optim\n",
    "from tqdm import tqdm\n",
    "import sys\n",
    "\n",
    "%run objects\n",
    "%run models"
   ]
  },
  {
   "cell_type": "code",
   "execution_count": null,
   "metadata": {},
   "outputs": [],
   "source": []
  },
  {
   "cell_type": "code",
   "execution_count": null,
   "metadata": {},
   "outputs": [],
   "source": []
  },
  {
   "cell_type": "code",
   "execution_count": 5,
   "metadata": {},
   "outputs": [
    {
     "name": "stdout",
     "output_type": "stream",
     "text": [
      "Data Sample Contains 2000 observations.\n"
     ]
    }
   ],
   "source": [
    "train_dataset = ContactDataset(os.getcwd() + \"/nfl-player-contact-detection/train_labels.csv\",\n",
    "                               ground=False, feature_size=256, num_back_forward_steps=1, \n",
    "                               skips=1, distance_cutoff=5, num_per_classification=1000)"
   ]
  },
  {
   "cell_type": "code",
   "execution_count": 6,
   "metadata": {},
   "outputs": [
    {
     "name": "stdout",
     "output_type": "stream",
     "text": [
      "----Features being extracted for 230 plays and 2000 potential contacts-----\n",
      "Play 1/230. (0 potential contact complete.)\n"
     ]
    },
    {
     "name": "stderr",
     "output_type": "stream",
     "text": [
      "100%|██████████| 34/34 [00:14<00:00,  2.28it/s]\n"
     ]
    },
    {
     "name": "stdout",
     "output_type": "stream",
     "text": [
      "Play 2/230. (34 potential contact complete.)\n"
     ]
    },
    {
     "name": "stderr",
     "output_type": "stream",
     "text": [
      "100%|██████████| 4/4 [00:01<00:00,  2.27it/s]\n"
     ]
    },
    {
     "name": "stdout",
     "output_type": "stream",
     "text": [
      "Play 3/230. (38 potential contact complete.)\n"
     ]
    },
    {
     "name": "stderr",
     "output_type": "stream",
     "text": [
      "100%|██████████| 8/8 [00:03<00:00,  2.33it/s]\n"
     ]
    },
    {
     "name": "stdout",
     "output_type": "stream",
     "text": [
      "Play 4/230. (46 potential contact complete.)\n"
     ]
    },
    {
     "name": "stderr",
     "output_type": "stream",
     "text": [
      "100%|██████████| 7/7 [00:03<00:00,  2.29it/s]\n"
     ]
    },
    {
     "name": "stdout",
     "output_type": "stream",
     "text": [
      "Play 5/230. (53 potential contact complete.)\n"
     ]
    },
    {
     "name": "stderr",
     "output_type": "stream",
     "text": [
      "100%|██████████| 11/11 [00:04<00:00,  2.33it/s]\n"
     ]
    },
    {
     "name": "stdout",
     "output_type": "stream",
     "text": [
      "Play 6/230. (64 potential contact complete.)\n"
     ]
    },
    {
     "name": "stderr",
     "output_type": "stream",
     "text": [
      "100%|██████████| 9/9 [00:03<00:00,  2.26it/s]\n"
     ]
    },
    {
     "name": "stdout",
     "output_type": "stream",
     "text": [
      "Play 7/230. (73 potential contact complete.)\n"
     ]
    },
    {
     "name": "stderr",
     "output_type": "stream",
     "text": [
      "100%|██████████| 16/16 [00:06<00:00,  2.29it/s]\n"
     ]
    },
    {
     "name": "stdout",
     "output_type": "stream",
     "text": [
      "Play 8/230. (89 potential contact complete.)\n"
     ]
    },
    {
     "name": "stderr",
     "output_type": "stream",
     "text": [
      "100%|██████████| 4/4 [00:01<00:00,  2.20it/s]\n"
     ]
    },
    {
     "name": "stdout",
     "output_type": "stream",
     "text": [
      "Play 9/230. (93 potential contact complete.)\n"
     ]
    },
    {
     "name": "stderr",
     "output_type": "stream",
     "text": [
      "100%|██████████| 18/18 [00:07<00:00,  2.33it/s]\n"
     ]
    },
    {
     "name": "stdout",
     "output_type": "stream",
     "text": [
      "Play 10/230. (111 potential contact complete.)\n"
     ]
    },
    {
     "name": "stderr",
     "output_type": "stream",
     "text": [
      "100%|██████████| 6/6 [00:02<00:00,  2.26it/s]\n"
     ]
    },
    {
     "name": "stdout",
     "output_type": "stream",
     "text": [
      "Play 11/230. (117 potential contact complete.)\n"
     ]
    },
    {
     "name": "stderr",
     "output_type": "stream",
     "text": [
      "100%|██████████| 16/16 [00:06<00:00,  2.32it/s]\n"
     ]
    },
    {
     "name": "stdout",
     "output_type": "stream",
     "text": [
      "Play 12/230. (133 potential contact complete.)\n"
     ]
    },
    {
     "name": "stderr",
     "output_type": "stream",
     "text": [
      "100%|██████████| 6/6 [00:02<00:00,  2.25it/s]\n"
     ]
    },
    {
     "name": "stdout",
     "output_type": "stream",
     "text": [
      "Play 13/230. (139 potential contact complete.)\n"
     ]
    },
    {
     "name": "stderr",
     "output_type": "stream",
     "text": [
      "100%|██████████| 9/9 [00:03<00:00,  2.34it/s]\n"
     ]
    },
    {
     "name": "stdout",
     "output_type": "stream",
     "text": [
      "Play 14/230. (148 potential contact complete.)\n"
     ]
    },
    {
     "name": "stderr",
     "output_type": "stream",
     "text": [
      "100%|██████████| 6/6 [00:02<00:00,  2.25it/s]\n"
     ]
    },
    {
     "name": "stdout",
     "output_type": "stream",
     "text": [
      "Play 15/230. (154 potential contact complete.)\n"
     ]
    },
    {
     "name": "stderr",
     "output_type": "stream",
     "text": [
      " 35%|███▌      | 6/17 [00:03<00:05,  1.97it/s]\n"
     ]
    },
    {
     "name": "stdout",
     "output_type": "stream",
     "text": [
      "Unexpected exception formatting exception. Falling back to standard exception\n"
     ]
    },
    {
     "name": "stderr",
     "output_type": "stream",
     "text": [
      "Traceback (most recent call last):\n",
      "  File \"/Users/nickbachelder/opt/anaconda3/envs/data-science/lib/python3.10/site-packages/IPython/core/interactiveshell.py\", line 3398, in run_code\n",
      "    exec(code_obj, self.user_global_ns, self.user_ns)\n",
      "  File \"/var/folders/xs/5ps3sp7d651c8whk_0_xk6580000gn/T/ipykernel_69148/1062623491.py\", line 1, in <cell line: 1>\n",
      "    train_dataset._cache_all_features\n",
      "  File \"/Users/nickbachelder/Desktop/Personal Code/Kaggle/Contact/objects.py\", line 163, in _cache_all_features\n",
      "    self.cache.update({index : self.get_features(contact_info_df, video_cache=video_cache, box_cache=box_cache)})\n",
      "  File \"/Users/nickbachelder/Desktop/Personal Code/Kaggle/Contact/objects.py\", line 253, in get_features\n",
      "    feature_array = np.concatenate(feature, axis = 0) # Channel, Time, H, W\n",
      "  File \"<__array_function__ internals>\", line 200, in concatenate\n",
      "ValueError: all the input array dimensions except for the concatenation axis must match exactly, but along dimension 1, the array at index 0 has size 3 and the array at index 2 has size 2\n",
      "\n",
      "During handling of the above exception, another exception occurred:\n",
      "\n",
      "Traceback (most recent call last):\n",
      "  File \"/Users/nickbachelder/opt/anaconda3/envs/data-science/lib/python3.10/site-packages/IPython/core/interactiveshell.py\", line 1993, in showtraceback\n",
      "    stb = self.InteractiveTB.structured_traceback(\n",
      "  File \"/Users/nickbachelder/opt/anaconda3/envs/data-science/lib/python3.10/site-packages/IPython/core/ultratb.py\", line 1118, in structured_traceback\n",
      "    return FormattedTB.structured_traceback(\n",
      "  File \"/Users/nickbachelder/opt/anaconda3/envs/data-science/lib/python3.10/site-packages/IPython/core/ultratb.py\", line 1012, in structured_traceback\n",
      "    return VerboseTB.structured_traceback(\n",
      "  File \"/Users/nickbachelder/opt/anaconda3/envs/data-science/lib/python3.10/site-packages/IPython/core/ultratb.py\", line 865, in structured_traceback\n",
      "    formatted_exception = self.format_exception_as_a_whole(etype, evalue, etb, number_of_lines_of_context,\n",
      "  File \"/Users/nickbachelder/opt/anaconda3/envs/data-science/lib/python3.10/site-packages/IPython/core/ultratb.py\", line 818, in format_exception_as_a_whole\n",
      "    frames.append(self.format_record(r))\n",
      "  File \"/Users/nickbachelder/opt/anaconda3/envs/data-science/lib/python3.10/site-packages/IPython/core/ultratb.py\", line 736, in format_record\n",
      "    result += ''.join(_format_traceback_lines(frame_info.lines, Colors, self.has_colors, lvals))\n",
      "  File \"/Users/nickbachelder/opt/anaconda3/envs/data-science/lib/python3.10/site-packages/stack_data/utils.py\", line 145, in cached_property_wrapper\n",
      "    value = obj.__dict__[self.func.__name__] = self.func(obj)\n",
      "  File \"/Users/nickbachelder/opt/anaconda3/envs/data-science/lib/python3.10/site-packages/stack_data/core.py\", line 698, in lines\n",
      "    pieces = self.included_pieces\n",
      "  File \"/Users/nickbachelder/opt/anaconda3/envs/data-science/lib/python3.10/site-packages/stack_data/utils.py\", line 145, in cached_property_wrapper\n",
      "    value = obj.__dict__[self.func.__name__] = self.func(obj)\n",
      "  File \"/Users/nickbachelder/opt/anaconda3/envs/data-science/lib/python3.10/site-packages/stack_data/core.py\", line 649, in included_pieces\n",
      "    pos = scope_pieces.index(self.executing_piece)\n",
      "  File \"/Users/nickbachelder/opt/anaconda3/envs/data-science/lib/python3.10/site-packages/stack_data/utils.py\", line 145, in cached_property_wrapper\n",
      "    value = obj.__dict__[self.func.__name__] = self.func(obj)\n",
      "  File \"/Users/nickbachelder/opt/anaconda3/envs/data-science/lib/python3.10/site-packages/stack_data/core.py\", line 628, in executing_piece\n",
      "    return only(\n",
      "  File \"/Users/nickbachelder/opt/anaconda3/envs/data-science/lib/python3.10/site-packages/executing/executing.py\", line 164, in only\n",
      "    raise NotOneValueFound('Expected one value, found 0')\n",
      "executing.executing.NotOneValueFound: Expected one value, found 0\n"
     ]
    }
   ],
   "source": [
    "train_dataset._cache_all_features"
   ]
  },
  {
   "cell_type": "code",
   "execution_count": 8,
   "metadata": {},
   "outputs": [
    {
     "name": "stdout",
     "output_type": "stream",
     "text": [
      "tensor([1.])\n"
     ]
    },
    {
     "data": {
      "image/png": "[encoded data removed]",
      "text/plain": [
       "<Figure size 1200x400 with 5 Axes>"
      ]
     },
     "metadata": {},
     "output_type": "display_data"
    },
    {
     "data": {
      "image/png": "[encoded data removed]",
      "text/plain": [
       "<Figure size 1200x400 with 5 Axes>"
      ]
     },
     "metadata": {},
     "output_type": "display_data"
    },
    {
     "data": {
      "image/png": "[encoded data removed]",
      "text/plain": [
       "<Figure size 1200x400 with 5 Axes>"
      ]
     },
     "metadata": {},
     "output_type": "display_data"
    }
   ],
   "source": [
    "images=train_dataset[4]\n",
    "j = 0\n",
    "for image in images[0]:\n",
    "    j+=1\n",
    "    fig, axs = plt.subplots(1, 5, figsize=(12, 4)) \n",
    "    for i in range(5):\n",
    "        channel = image[i, :, :]\n",
    "        axs[i].imshow(channel, cmap='gray') \n",
    "        if i==0 or i==1:\n",
    "            axs[i].imshow(image[i+2, :, :], alpha=0.4, cmap='Blues')  \n",
    "        axs[i].set_title(f'Time {j}, Channel {i+1}')\n",
    "print(images[1])"
   ]
  },
  {
   "cell_type": "code",
   "execution_count": null,
   "metadata": {},
   "outputs": [],
   "source": []
  },
  {
   "cell_type": "code",
   "execution_count": 2,
   "metadata": {},
   "outputs": [
    {
     "name": "stderr",
     "output_type": "stream",
     "text": [
      "/Users/nickbachelder/opt/anaconda3/envs/data-science/lib/python3.10/site-packages/tqdm/auto.py:21: TqdmWarning: IProgress not found. Please update jupyter and ipywidgets. See https://ipywidgets.readthedocs.io/en/stable/user_install.html\n",
      "  from .autonotebook import tqdm as notebook_tqdm\n"
     ]
    }
   ],
   "source": [
    "import pandas as pd\n",
    "import numpy as np\n",
    "import cv2\n",
    "import matplotlib.pyplot as plt\n",
    "import os\n",
    "from tqdm import tqdm\n",
    "from pytorchvideo.data.encoded_video import EncodedVideo\n",
    "import torch\n",
    "from torch.utils.data import Dataset, DataLoader\n",
    "import torchvision.transforms as transforms\n",
    "import torch.optim as optim\n",
    "from tqdm import tqdm\n",
    "import sys\n",
    "import psutil"
   ]
  },
  {
   "cell_type": "code",
   "execution_count": null,
   "metadata": {},
   "outputs": [],
   "source": []
  },
  {
   "cell_type": "code",
   "execution_count": 2,
   "metadata": {},
   "outputs": [
    {
     "name": "stdout",
     "output_type": "stream",
     "text": [
      "-----Caching features and labels-----\n",
      "Data Sample Contains 10 observations.\n"
     ]
    },
    {
     "name": "stderr",
     "output_type": "stream",
     "text": [
      "  0%|          | 0/10 [00:04<?, ?it/s]"
     ]
    },
    {
     "name": "stdout",
     "output_type": "stream",
     "text": [
      "CPU Usage: 20.8 %\n",
      "Memory Usage:\n",
      "Total Memory: 8.0 GB\n",
      "Available Memory: 0.296234130859375 GB\n",
      "Used Memory: 0.7298736572265625 GB\n",
      "Memory Percent: 96.3 %\n"
     ]
    },
    {
     "name": "stderr",
     "output_type": "stream",
     "text": [
      "\n"
     ]
    },
    {
     "ename": "AccessDenied",
     "evalue": "",
     "output_type": "error",
     "traceback": [
      "\u001b[0;31m---------------------------------------------------------------------------\u001b[0m",
      "\u001b[0;31mAttributeError\u001b[0m                            Traceback (most recent call last)",
      "File \u001b[0;32m~/opt/anaconda3/envs/data-science/lib/python3.10/site-packages/psutil/_common.py:441\u001b[0m, in \u001b[0;36mmemoize_when_activated.<locals>.wrapper\u001b[0;34m(self)\u001b[0m\n\u001b[1;32m    439\u001b[0m \u001b[38;5;28;01mtry\u001b[39;00m:\n\u001b[1;32m    440\u001b[0m     \u001b[38;5;66;03m# case 1: we previously entered oneshot() ctx\u001b[39;00m\n\u001b[0;32m--> 441\u001b[0m     ret \u001b[38;5;241m=\u001b[39m \u001b[38;5;28;43mself\u001b[39;49m\u001b[38;5;241;43m.\u001b[39;49m\u001b[43m_cache\u001b[49m[fun]\n\u001b[1;32m    442\u001b[0m \u001b[38;5;28;01mexcept\u001b[39;00m \u001b[38;5;167;01mAttributeError\u001b[39;00m:\n\u001b[1;32m    443\u001b[0m     \u001b[38;5;66;03m# case 2: we never entered oneshot() ctx\u001b[39;00m\n",
      "\u001b[0;31mAttributeError\u001b[0m: 'Process' object has no attribute '_cache'",
      "\nDuring handling of the above exception, another exception occurred:\n",
      "\u001b[0;31mAttributeError\u001b[0m                            Traceback (most recent call last)",
      "File \u001b[0;32m~/opt/anaconda3/envs/data-science/lib/python3.10/site-packages/psutil/_common.py:441\u001b[0m, in \u001b[0;36mmemoize_when_activated.<locals>.wrapper\u001b[0;34m(self)\u001b[0m\n\u001b[1;32m    439\u001b[0m \u001b[38;5;28;01mtry\u001b[39;00m:\n\u001b[1;32m    440\u001b[0m     \u001b[38;5;66;03m# case 1: we previously entered oneshot() ctx\u001b[39;00m\n\u001b[0;32m--> 441\u001b[0m     ret \u001b[38;5;241m=\u001b[39m \u001b[38;5;28;43mself\u001b[39;49m\u001b[38;5;241;43m.\u001b[39;49m\u001b[43m_cache\u001b[49m[fun]\n\u001b[1;32m    442\u001b[0m \u001b[38;5;28;01mexcept\u001b[39;00m \u001b[38;5;167;01mAttributeError\u001b[39;00m:\n\u001b[1;32m    443\u001b[0m     \u001b[38;5;66;03m# case 2: we never entered oneshot() ctx\u001b[39;00m\n",
      "\u001b[0;31mAttributeError\u001b[0m: 'Process' object has no attribute '_cache'",
      "\nDuring handling of the above exception, another exception occurred:\n",
      "\u001b[0;31mPermissionError\u001b[0m                           Traceback (most recent call last)",
      "File \u001b[0;32m~/opt/anaconda3/envs/data-science/lib/python3.10/site-packages/psutil/_psosx.py:343\u001b[0m, in \u001b[0;36mwrap_exceptions.<locals>.wrapper\u001b[0;34m(self, *args, **kwargs)\u001b[0m\n\u001b[1;32m    342\u001b[0m \u001b[38;5;28;01mtry\u001b[39;00m:\n\u001b[0;32m--> 343\u001b[0m     \u001b[38;5;28;01mreturn\u001b[39;00m \u001b[43mfun\u001b[49m\u001b[43m(\u001b[49m\u001b[38;5;28;43mself\u001b[39;49m\u001b[43m,\u001b[49m\u001b[43m \u001b[49m\u001b[38;5;241;43m*\u001b[39;49m\u001b[43margs\u001b[49m\u001b[43m,\u001b[49m\u001b[43m \u001b[49m\u001b[38;5;241;43m*\u001b[39;49m\u001b[38;5;241;43m*\u001b[39;49m\u001b[43mkwargs\u001b[49m\u001b[43m)\u001b[49m\n\u001b[1;32m    344\u001b[0m \u001b[38;5;28;01mexcept\u001b[39;00m \u001b[38;5;167;01mProcessLookupError\u001b[39;00m:\n",
      "File \u001b[0;32m~/opt/anaconda3/envs/data-science/lib/python3.10/site-packages/psutil/_common.py:444\u001b[0m, in \u001b[0;36mmemoize_when_activated.<locals>.wrapper\u001b[0;34m(self)\u001b[0m\n\u001b[1;32m    442\u001b[0m \u001b[38;5;28;01mexcept\u001b[39;00m \u001b[38;5;167;01mAttributeError\u001b[39;00m:\n\u001b[1;32m    443\u001b[0m     \u001b[38;5;66;03m# case 2: we never entered oneshot() ctx\u001b[39;00m\n\u001b[0;32m--> 444\u001b[0m     \u001b[38;5;28;01mreturn\u001b[39;00m \u001b[43mfun\u001b[49m\u001b[43m(\u001b[49m\u001b[38;5;28;43mself\u001b[39;49m\u001b[43m)\u001b[49m\n\u001b[1;32m    445\u001b[0m \u001b[38;5;28;01mexcept\u001b[39;00m \u001b[38;5;167;01mKeyError\u001b[39;00m:\n\u001b[1;32m    446\u001b[0m     \u001b[38;5;66;03m# case 3: we entered oneshot() ctx but there's no cache\u001b[39;00m\n\u001b[1;32m    447\u001b[0m     \u001b[38;5;66;03m# for this entry yet\u001b[39;00m\n",
      "File \u001b[0;32m~/opt/anaconda3/envs/data-science/lib/python3.10/site-packages/psutil/_psosx.py:378\u001b[0m, in \u001b[0;36mProcess._get_pidtaskinfo\u001b[0;34m(self)\u001b[0m\n\u001b[1;32m    374\u001b[0m \u001b[38;5;129m@wrap_exceptions\u001b[39m\n\u001b[1;32m    375\u001b[0m \u001b[38;5;129m@memoize_when_activated\u001b[39m\n\u001b[1;32m    376\u001b[0m \u001b[38;5;28;01mdef\u001b[39;00m \u001b[38;5;21m_get_pidtaskinfo\u001b[39m(\u001b[38;5;28mself\u001b[39m):\n\u001b[1;32m    377\u001b[0m     \u001b[38;5;66;03m# Note: should work for PIDs owned by user only.\u001b[39;00m\n\u001b[0;32m--> 378\u001b[0m     ret \u001b[38;5;241m=\u001b[39m \u001b[43mcext\u001b[49m\u001b[38;5;241;43m.\u001b[39;49m\u001b[43mproc_pidtaskinfo_oneshot\u001b[49m\u001b[43m(\u001b[49m\u001b[38;5;28;43mself\u001b[39;49m\u001b[38;5;241;43m.\u001b[39;49m\u001b[43mpid\u001b[49m\u001b[43m)\u001b[49m\n\u001b[1;32m    379\u001b[0m     \u001b[38;5;28;01massert\u001b[39;00m \u001b[38;5;28mlen\u001b[39m(ret) \u001b[38;5;241m==\u001b[39m \u001b[38;5;28mlen\u001b[39m(pidtaskinfo_map)\n",
      "\u001b[0;31mPermissionError\u001b[0m: [Errno 1] Operation not permitted (originated from proc_pidinfo())",
      "\nDuring handling of the above exception, another exception occurred:\n",
      "\u001b[0;31mAccessDenied\u001b[0m                              Traceback (most recent call last)",
      "Input \u001b[0;32mIn [2]\u001b[0m, in \u001b[0;36m<cell line: 22>\u001b[0;34m()\u001b[0m\n\u001b[1;32m     40\u001b[0m all_processes \u001b[38;5;241m=\u001b[39m \u001b[38;5;28mlist\u001b[39m(psutil\u001b[38;5;241m.\u001b[39mprocess_iter())\n\u001b[1;32m     42\u001b[0m \u001b[38;5;66;03m# Sort the processes by memory usage\u001b[39;00m\n\u001b[0;32m---> 43\u001b[0m \u001b[43mall_processes\u001b[49m\u001b[38;5;241;43m.\u001b[39;49m\u001b[43msort\u001b[49m\u001b[43m(\u001b[49m\u001b[43mkey\u001b[49m\u001b[38;5;241;43m=\u001b[39;49m\u001b[38;5;28;43;01mlambda\u001b[39;49;00m\u001b[43m \u001b[49m\u001b[43mx\u001b[49m\u001b[43m:\u001b[49m\u001b[43m \u001b[49m\u001b[43mx\u001b[49m\u001b[38;5;241;43m.\u001b[39;49m\u001b[43mmemory_info\u001b[49m\u001b[43m(\u001b[49m\u001b[43m)\u001b[49m\u001b[38;5;241;43m.\u001b[39;49m\u001b[43mrss\u001b[49m\u001b[43m,\u001b[49m\u001b[43m \u001b[49m\u001b[43mreverse\u001b[49m\u001b[38;5;241;43m=\u001b[39;49m\u001b[38;5;28;43;01mTrue\u001b[39;49;00m\u001b[43m)\u001b[49m\n\u001b[1;32m     45\u001b[0m \u001b[38;5;66;03m# Print the top 5 processes by memory usage\u001b[39;00m\n\u001b[1;32m     46\u001b[0m \u001b[38;5;28mprint\u001b[39m(\u001b[38;5;124m\"\u001b[39m\u001b[38;5;124mTop 5 memory-consuming processes:\u001b[39m\u001b[38;5;124m\"\u001b[39m)\n",
      "Input \u001b[0;32mIn [2]\u001b[0m, in \u001b[0;36m<lambda>\u001b[0;34m(x)\u001b[0m\n\u001b[1;32m     40\u001b[0m all_processes \u001b[38;5;241m=\u001b[39m \u001b[38;5;28mlist\u001b[39m(psutil\u001b[38;5;241m.\u001b[39mprocess_iter())\n\u001b[1;32m     42\u001b[0m \u001b[38;5;66;03m# Sort the processes by memory usage\u001b[39;00m\n\u001b[0;32m---> 43\u001b[0m all_processes\u001b[38;5;241m.\u001b[39msort(key\u001b[38;5;241m=\u001b[39m\u001b[38;5;28;01mlambda\u001b[39;00m x: \u001b[43mx\u001b[49m\u001b[38;5;241;43m.\u001b[39;49m\u001b[43mmemory_info\u001b[49m\u001b[43m(\u001b[49m\u001b[43m)\u001b[49m\u001b[38;5;241m.\u001b[39mrss, reverse\u001b[38;5;241m=\u001b[39m\u001b[38;5;28;01mTrue\u001b[39;00m)\n\u001b[1;32m     45\u001b[0m \u001b[38;5;66;03m# Print the top 5 processes by memory usage\u001b[39;00m\n\u001b[1;32m     46\u001b[0m \u001b[38;5;28mprint\u001b[39m(\u001b[38;5;124m\"\u001b[39m\u001b[38;5;124mTop 5 memory-consuming processes:\u001b[39m\u001b[38;5;124m\"\u001b[39m)\n",
      "File \u001b[0;32m~/opt/anaconda3/envs/data-science/lib/python3.10/site-packages/psutil/_common.py:444\u001b[0m, in \u001b[0;36mmemoize_when_activated.<locals>.wrapper\u001b[0;34m(self)\u001b[0m\n\u001b[1;32m    441\u001b[0m     ret \u001b[38;5;241m=\u001b[39m \u001b[38;5;28mself\u001b[39m\u001b[38;5;241m.\u001b[39m_cache[fun]\n\u001b[1;32m    442\u001b[0m \u001b[38;5;28;01mexcept\u001b[39;00m \u001b[38;5;167;01mAttributeError\u001b[39;00m:\n\u001b[1;32m    443\u001b[0m     \u001b[38;5;66;03m# case 2: we never entered oneshot() ctx\u001b[39;00m\n\u001b[0;32m--> 444\u001b[0m     \u001b[38;5;28;01mreturn\u001b[39;00m \u001b[43mfun\u001b[49m\u001b[43m(\u001b[49m\u001b[38;5;28;43mself\u001b[39;49m\u001b[43m)\u001b[49m\n\u001b[1;32m    445\u001b[0m \u001b[38;5;28;01mexcept\u001b[39;00m \u001b[38;5;167;01mKeyError\u001b[39;00m:\n\u001b[1;32m    446\u001b[0m     \u001b[38;5;66;03m# case 3: we entered oneshot() ctx but there's no cache\u001b[39;00m\n\u001b[1;32m    447\u001b[0m     \u001b[38;5;66;03m# for this entry yet\u001b[39;00m\n\u001b[1;32m    448\u001b[0m     ret \u001b[38;5;241m=\u001b[39m fun(\u001b[38;5;28mself\u001b[39m)\n",
      "File \u001b[0;32m~/opt/anaconda3/envs/data-science/lib/python3.10/site-packages/psutil/__init__.py:1061\u001b[0m, in \u001b[0;36mProcess.memory_info\u001b[0;34m(self)\u001b[0m\n\u001b[1;32m   1052\u001b[0m \u001b[38;5;129m@memoize_when_activated\u001b[39m\n\u001b[1;32m   1053\u001b[0m \u001b[38;5;28;01mdef\u001b[39;00m \u001b[38;5;21mmemory_info\u001b[39m(\u001b[38;5;28mself\u001b[39m):\n\u001b[1;32m   1054\u001b[0m     \u001b[38;5;124;03m\"\"\"Return a namedtuple with variable fields depending on the\u001b[39;00m\n\u001b[1;32m   1055\u001b[0m \u001b[38;5;124;03m    platform, representing memory information about the process.\u001b[39;00m\n\u001b[1;32m   1056\u001b[0m \n\u001b[0;32m   (...)\u001b[0m\n\u001b[1;32m   1059\u001b[0m \u001b[38;5;124;03m    All numbers are expressed in bytes.\u001b[39;00m\n\u001b[1;32m   1060\u001b[0m \u001b[38;5;124;03m    \"\"\"\u001b[39;00m\n\u001b[0;32m-> 1061\u001b[0m     \u001b[38;5;28;01mreturn\u001b[39;00m \u001b[38;5;28;43mself\u001b[39;49m\u001b[38;5;241;43m.\u001b[39;49m\u001b[43m_proc\u001b[49m\u001b[38;5;241;43m.\u001b[39;49m\u001b[43mmemory_info\u001b[49m\u001b[43m(\u001b[49m\u001b[43m)\u001b[49m\n",
      "File \u001b[0;32m~/opt/anaconda3/envs/data-science/lib/python3.10/site-packages/psutil/_psosx.py:343\u001b[0m, in \u001b[0;36mwrap_exceptions.<locals>.wrapper\u001b[0;34m(self, *args, **kwargs)\u001b[0m\n\u001b[1;32m    340\u001b[0m \u001b[38;5;129m@functools\u001b[39m\u001b[38;5;241m.\u001b[39mwraps(fun)\n\u001b[1;32m    341\u001b[0m \u001b[38;5;28;01mdef\u001b[39;00m \u001b[38;5;21mwrapper\u001b[39m(\u001b[38;5;28mself\u001b[39m, \u001b[38;5;241m*\u001b[39margs, \u001b[38;5;241m*\u001b[39m\u001b[38;5;241m*\u001b[39mkwargs):\n\u001b[1;32m    342\u001b[0m     \u001b[38;5;28;01mtry\u001b[39;00m:\n\u001b[0;32m--> 343\u001b[0m         \u001b[38;5;28;01mreturn\u001b[39;00m \u001b[43mfun\u001b[49m\u001b[43m(\u001b[49m\u001b[38;5;28;43mself\u001b[39;49m\u001b[43m,\u001b[49m\u001b[43m \u001b[49m\u001b[38;5;241;43m*\u001b[39;49m\u001b[43margs\u001b[49m\u001b[43m,\u001b[49m\u001b[43m \u001b[49m\u001b[38;5;241;43m*\u001b[39;49m\u001b[38;5;241;43m*\u001b[39;49m\u001b[43mkwargs\u001b[49m\u001b[43m)\u001b[49m\n\u001b[1;32m    344\u001b[0m     \u001b[38;5;28;01mexcept\u001b[39;00m \u001b[38;5;167;01mProcessLookupError\u001b[39;00m:\n\u001b[1;32m    345\u001b[0m         \u001b[38;5;28;01mif\u001b[39;00m is_zombie(\u001b[38;5;28mself\u001b[39m\u001b[38;5;241m.\u001b[39mpid):\n",
      "File \u001b[0;32m~/opt/anaconda3/envs/data-science/lib/python3.10/site-packages/psutil/_psosx.py:443\u001b[0m, in \u001b[0;36mProcess.memory_info\u001b[0;34m(self)\u001b[0m\n\u001b[1;32m    441\u001b[0m \u001b[38;5;129m@wrap_exceptions\u001b[39m\n\u001b[1;32m    442\u001b[0m \u001b[38;5;28;01mdef\u001b[39;00m \u001b[38;5;21mmemory_info\u001b[39m(\u001b[38;5;28mself\u001b[39m):\n\u001b[0;32m--> 443\u001b[0m     rawtuple \u001b[38;5;241m=\u001b[39m \u001b[38;5;28;43mself\u001b[39;49m\u001b[38;5;241;43m.\u001b[39;49m\u001b[43m_get_pidtaskinfo\u001b[49m\u001b[43m(\u001b[49m\u001b[43m)\u001b[49m\n\u001b[1;32m    444\u001b[0m     \u001b[38;5;28;01mreturn\u001b[39;00m pmem(\n\u001b[1;32m    445\u001b[0m         rawtuple[pidtaskinfo_map[\u001b[38;5;124m'\u001b[39m\u001b[38;5;124mrss\u001b[39m\u001b[38;5;124m'\u001b[39m]],\n\u001b[1;32m    446\u001b[0m         rawtuple[pidtaskinfo_map[\u001b[38;5;124m'\u001b[39m\u001b[38;5;124mvms\u001b[39m\u001b[38;5;124m'\u001b[39m]],\n\u001b[1;32m    447\u001b[0m         rawtuple[pidtaskinfo_map[\u001b[38;5;124m'\u001b[39m\u001b[38;5;124mpfaults\u001b[39m\u001b[38;5;124m'\u001b[39m]],\n\u001b[1;32m    448\u001b[0m         rawtuple[pidtaskinfo_map[\u001b[38;5;124m'\u001b[39m\u001b[38;5;124mpageins\u001b[39m\u001b[38;5;124m'\u001b[39m]],\n\u001b[1;32m    449\u001b[0m     )\n",
      "File \u001b[0;32m~/opt/anaconda3/envs/data-science/lib/python3.10/site-packages/psutil/_psosx.py:350\u001b[0m, in \u001b[0;36mwrap_exceptions.<locals>.wrapper\u001b[0;34m(self, *args, **kwargs)\u001b[0m\n\u001b[1;32m    348\u001b[0m         \u001b[38;5;28;01mraise\u001b[39;00m NoSuchProcess(\u001b[38;5;28mself\u001b[39m\u001b[38;5;241m.\u001b[39mpid, \u001b[38;5;28mself\u001b[39m\u001b[38;5;241m.\u001b[39m_name)\n\u001b[1;32m    349\u001b[0m \u001b[38;5;28;01mexcept\u001b[39;00m \u001b[38;5;167;01mPermissionError\u001b[39;00m:\n\u001b[0;32m--> 350\u001b[0m     \u001b[38;5;28;01mraise\u001b[39;00m AccessDenied(\u001b[38;5;28mself\u001b[39m\u001b[38;5;241m.\u001b[39mpid, \u001b[38;5;28mself\u001b[39m\u001b[38;5;241m.\u001b[39m_name)\n\u001b[1;32m    351\u001b[0m \u001b[38;5;28;01mexcept\u001b[39;00m cext\u001b[38;5;241m.\u001b[39mZombieProcessError:\n\u001b[1;32m    352\u001b[0m     \u001b[38;5;28;01mraise\u001b[39;00m ZombieProcess(\u001b[38;5;28mself\u001b[39m\u001b[38;5;241m.\u001b[39mpid, \u001b[38;5;28mself\u001b[39m\u001b[38;5;241m.\u001b[39m_name, \u001b[38;5;28mself\u001b[39m\u001b[38;5;241m.\u001b[39m_ppid)\n",
      "\u001b[0;31mAccessDenied\u001b[0m: "
     ]
    }
   ],
   "source": [
    "import pandas as pd\n",
    "import numpy as np\n",
    "import cv2\n",
    "import matplotlib.pyplot as plt\n",
    "import os\n",
    "from tqdm import tqdm\n",
    "from pytorchvideo.data.encoded_video import EncodedVideo\n",
    "import torch\n",
    "from torch.utils.data import Dataset, DataLoader\n",
    "import torchvision.transforms as transforms\n",
    "import torch.optim as optim\n",
    "from tqdm import tqdm\n",
    "import sys\n",
    "import psutil\n",
    "\n",
    "%run objects\n",
    "%run models\n",
    "\n",
    "print(f\"-----Caching features and labels-----\")\n",
    "dataset = ContactDataset(os.getcwd() + \"/nfl-player-contact-detection/train_labels.csv\",\n",
    "                      ground=False, feature_size=256, num_back_forward_steps=1, skips=1, distance_cutoff=5, num_per_classification=5)\n",
    "for index, row in tqdm(dataset.record_df.iterrows(), total=dataset.record_df.shape[0]):\n",
    "    load=dataset[index] # Caches info internally in dataset object"
   ]
  },
  {
   "cell_type": "code",
   "execution_count": 3,
   "metadata": {},
   "outputs": [],
   "source": [
    "dataloader = DataLoader(dataset, batch_size=256, shuffle=True)"
   ]
  },
  {
   "cell_type": "code",
   "execution_count": 4,
   "metadata": {},
   "outputs": [],
   "source": [
    "image_size = 256\n",
    "input_size = 100  # Output size of the Encoder's fully connected layer\n",
    "hidden_size = 64\n",
    "num_layers = 2\n",
    "dropout = 0.1\n",
    "learning_rate = 0.001\n",
    "num_epochs = 10"
   ]
  },
  {
   "cell_type": "code",
   "execution_count": 69,
   "metadata": {},
   "outputs": [],
   "source": [
    "combined_model = ContactNet(image_size, input_size, hidden_size, num_layers, dropout)\n",
    "device = torch.device('cpu')\n",
    "combined_model.to(device)\n",
    "criterion = nn.BCELoss()  # Binary Cross Entropy Loss for binary classification\n",
    "optimizer = optim.Adam(combined_model.parameters(), lr=learning_rate)"
   ]
  },
  {
   "cell_type": "code",
   "execution_count": 72,
   "metadata": {},
   "outputs": [
    {
     "name": "stdout",
     "output_type": "stream",
     "text": [
      "Epoch [1/10], Batch [1/1], Loss: 0.4257\n",
      "Epoch [2/10], Batch [1/1], Loss: 0.3891\n",
      "Epoch [3/10], Batch [1/1], Loss: 0.3652\n",
      "Epoch [4/10], Batch [1/1], Loss: 0.3354\n",
      "Epoch [5/10], Batch [1/1], Loss: 0.3033\n",
      "Epoch [6/10], Batch [1/1], Loss: 0.2683\n",
      "Epoch [7/10], Batch [1/1], Loss: 0.2396\n",
      "Epoch [8/10], Batch [1/1], Loss: 0.2198\n",
      "Epoch [9/10], Batch [1/1], Loss: 0.1947\n",
      "Epoch [10/10], Batch [1/1], Loss: 0.1662\n"
     ]
    }
   ],
   "source": [
    "for epoch in range(num_epochs):\n",
    "    # Training loop\n",
    "    combined_model.train()\n",
    "    for batch_idx, (features, labels) in enumerate(dataloader):\n",
    "        x1, x2, x3 = features\n",
    "        # Forward pass\n",
    "        outputs = combined_model(x1, x2, x3)\n",
    "\n",
    "        loss = criterion(outputs.squeeze(), labels.squeeze().float())  # Compute loss\n",
    "        \n",
    "        # Backward pass and optimization\n",
    "        optimizer.zero_grad()\n",
    "        loss.backward()\n",
    "        optimizer.step()\n",
    "        \n",
    "        print(f'Epoch [{epoch+1}/{num_epochs}], Batch [{batch_idx+1}/{len(dataloader)}], Loss: {loss.item():.4f}')\n",
    "        # Print loss\n",
    "        if (batch_idx + 1) % 100 == 0:\n",
    "            print(f'Epoch [{epoch+1}/{num_epochs}], Batch [{batch_idx+1}/{len(dataloader)}], Loss: {loss.item():.4f}')"
   ]
  },
  {
   "cell_type": "code",
   "execution_count": 34,
   "metadata": {},
   "outputs": [
    {
     "data": {
      "text/html": [
       "<div>\n",
       "<style scoped>\n",
       "    .dataframe tbody tr th:only-of-type {\n",
       "        vertical-align: middle;\n",
       "    }\n",
       "\n",
       "    .dataframe tbody tr th {\n",
       "        vertical-align: top;\n",
       "    }\n",
       "\n",
       "    .dataframe thead th {\n",
       "        text-align: right;\n",
       "    }\n",
       "</style>\n",
       "<table border=\"1\" class=\"dataframe\">\n",
       "  <thead>\n",
       "    <tr style=\"text-align: right;\">\n",
       "      <th></th>\n",
       "      <th>contact_id</th>\n",
       "      <th>game_play</th>\n",
       "      <th>datetime</th>\n",
       "      <th>step</th>\n",
       "      <th>nfl_player_id_1</th>\n",
       "      <th>nfl_player_id_2</th>\n",
       "      <th>contact</th>\n",
       "    </tr>\n",
       "  </thead>\n",
       "  <tbody>\n",
       "    <tr>\n",
       "      <th>0</th>\n",
       "      <td>58168_003392_0_38590_43854</td>\n",
       "      <td>58168_003392</td>\n",
       "      <td>2020-09-11T03:01:48.100Z</td>\n",
       "      <td>0</td>\n",
       "      <td>38590</td>\n",
       "      <td>43854</td>\n",
       "      <td>0</td>\n",
       "    </tr>\n",
       "    <tr>\n",
       "      <th>11798</th>\n",
       "      <td>58168_003392_46_37084_46522</td>\n",
       "      <td>58168_003392</td>\n",
       "      <td>2020-09-11T03:01:52.700Z</td>\n",
       "      <td>46</td>\n",
       "      <td>37084</td>\n",
       "      <td>46522</td>\n",
       "      <td>0</td>\n",
       "    </tr>\n",
       "    <tr>\n",
       "      <th>11799</th>\n",
       "      <td>58168_003392_46_44869_47944</td>\n",
       "      <td>58168_003392</td>\n",
       "      <td>2020-09-11T03:01:52.700Z</td>\n",
       "      <td>46</td>\n",
       "      <td>44869</td>\n",
       "      <td>47944</td>\n",
       "      <td>0</td>\n",
       "    </tr>\n",
       "    <tr>\n",
       "      <th>11800</th>\n",
       "      <td>58168_003392_46_44869_47837</td>\n",
       "      <td>58168_003392</td>\n",
       "      <td>2020-09-11T03:01:52.700Z</td>\n",
       "      <td>46</td>\n",
       "      <td>44869</td>\n",
       "      <td>47837</td>\n",
       "      <td>0</td>\n",
       "    </tr>\n",
       "    <tr>\n",
       "      <th>11801</th>\n",
       "      <td>58168_003392_46_44869_46137</td>\n",
       "      <td>58168_003392</td>\n",
       "      <td>2020-09-11T03:01:52.700Z</td>\n",
       "      <td>46</td>\n",
       "      <td>44869</td>\n",
       "      <td>46137</td>\n",
       "      <td>0</td>\n",
       "    </tr>\n",
       "    <tr>\n",
       "      <th>...</th>\n",
       "      <td>...</td>\n",
       "      <td>...</td>\n",
       "      <td>...</td>\n",
       "      <td>...</td>\n",
       "      <td>...</td>\n",
       "      <td>...</td>\n",
       "      <td>...</td>\n",
       "    </tr>\n",
       "    <tr>\n",
       "      <th>4706095</th>\n",
       "      <td>58582_003121_30_46105_46121</td>\n",
       "      <td>58582_003121</td>\n",
       "      <td>2021-10-12T02:42:23.000Z</td>\n",
       "      <td>30</td>\n",
       "      <td>46105</td>\n",
       "      <td>46121</td>\n",
       "      <td>0</td>\n",
       "    </tr>\n",
       "    <tr>\n",
       "      <th>4706094</th>\n",
       "      <td>58582_003121_30_46105_52609</td>\n",
       "      <td>58582_003121</td>\n",
       "      <td>2021-10-12T02:42:23.000Z</td>\n",
       "      <td>30</td>\n",
       "      <td>46105</td>\n",
       "      <td>52609</td>\n",
       "      <td>0</td>\n",
       "    </tr>\n",
       "    <tr>\n",
       "      <th>4706093</th>\n",
       "      <td>58582_003121_30_45287_52619</td>\n",
       "      <td>58582_003121</td>\n",
       "      <td>2021-10-12T02:42:23.000Z</td>\n",
       "      <td>30</td>\n",
       "      <td>45287</td>\n",
       "      <td>52619</td>\n",
       "      <td>0</td>\n",
       "    </tr>\n",
       "    <tr>\n",
       "      <th>4706091</th>\n",
       "      <td>58582_003121_30_45287_47906</td>\n",
       "      <td>58582_003121</td>\n",
       "      <td>2021-10-12T02:42:23.000Z</td>\n",
       "      <td>30</td>\n",
       "      <td>45287</td>\n",
       "      <td>47906</td>\n",
       "      <td>0</td>\n",
       "    </tr>\n",
       "    <tr>\n",
       "      <th>4721617</th>\n",
       "      <td>58582_003121_91_52619_G</td>\n",
       "      <td>58582_003121</td>\n",
       "      <td>2021-10-12T02:42:29.100Z</td>\n",
       "      <td>91</td>\n",
       "      <td>52619</td>\n",
       "      <td>G</td>\n",
       "      <td>0</td>\n",
       "    </tr>\n",
       "  </tbody>\n",
       "</table>\n",
       "<p>4721618 rows × 7 columns</p>\n",
       "</div>"
      ],
      "text/plain": [
       "                          contact_id     game_play                  datetime  \\\n",
       "0         58168_003392_0_38590_43854  58168_003392  2020-09-11T03:01:48.100Z   \n",
       "11798    58168_003392_46_37084_46522  58168_003392  2020-09-11T03:01:52.700Z   \n",
       "11799    58168_003392_46_44869_47944  58168_003392  2020-09-11T03:01:52.700Z   \n",
       "11800    58168_003392_46_44869_47837  58168_003392  2020-09-11T03:01:52.700Z   \n",
       "11801    58168_003392_46_44869_46137  58168_003392  2020-09-11T03:01:52.700Z   \n",
       "...                              ...           ...                       ...   \n",
       "4706095  58582_003121_30_46105_46121  58582_003121  2021-10-12T02:42:23.000Z   \n",
       "4706094  58582_003121_30_46105_52609  58582_003121  2021-10-12T02:42:23.000Z   \n",
       "4706093  58582_003121_30_45287_52619  58582_003121  2021-10-12T02:42:23.000Z   \n",
       "4706091  58582_003121_30_45287_47906  58582_003121  2021-10-12T02:42:23.000Z   \n",
       "4721617      58582_003121_91_52619_G  58582_003121  2021-10-12T02:42:29.100Z   \n",
       "\n",
       "         step  nfl_player_id_1 nfl_player_id_2  contact  \n",
       "0           0            38590           43854        0  \n",
       "11798      46            37084           46522        0  \n",
       "11799      46            44869           47944        0  \n",
       "11800      46            44869           47837        0  \n",
       "11801      46            44869           46137        0  \n",
       "...       ...              ...             ...      ...  \n",
       "4706095    30            46105           46121        0  \n",
       "4706094    30            46105           52609        0  \n",
       "4706093    30            45287           52619        0  \n",
       "4706091    30            45287           47906        0  \n",
       "4721617    91            52619               G        0  \n",
       "\n",
       "[4721618 rows x 7 columns]"
      ]
     },
     "execution_count": 34,
     "metadata": {},
     "output_type": "execute_result"
    }
   ],
   "source": [
    "pd.read_csv(os.getcwd() + \"/nfl-player-contact-detection/train_labels.csv\").sort_values(by=\"game_play\")"
   ]
  },
  {
   "cell_type": "code",
   "execution_count": 6,
   "metadata": {},
   "outputs": [],
   "source": [
    "import glob"
   ]
  },
  {
   "cell_type": "code",
   "execution_count": 17,
   "metadata": {},
   "outputs": [
    {
     "data": {
      "text/plain": [
       "(711, 720, 1280)"
      ]
     },
     "execution_count": 17,
     "metadata": {},
     "output_type": "execute_result"
    }
   ],
   "source": [
    "read_video(id='58168_003392', view=\"Sideline\", type='train').shape"
   ]
  },
  {
   "cell_type": "code",
   "execution_count": 15,
   "metadata": {},
   "outputs": [
    {
     "data": {
      "text/html": [
       "<div>\n",
       "<style scoped>\n",
       "    .dataframe tbody tr th:only-of-type {\n",
       "        vertical-align: middle;\n",
       "    }\n",
       "\n",
       "    .dataframe tbody tr th {\n",
       "        vertical-align: top;\n",
       "    }\n",
       "\n",
       "    .dataframe thead th {\n",
       "        text-align: right;\n",
       "    }\n",
       "</style>\n",
       "<table border=\"1\" class=\"dataframe\">\n",
       "  <thead>\n",
       "    <tr style=\"text-align: right;\">\n",
       "      <th></th>\n",
       "      <th>contact_id</th>\n",
       "      <th>game_play</th>\n",
       "      <th>datetime</th>\n",
       "      <th>step</th>\n",
       "      <th>nfl_player_id_1</th>\n",
       "      <th>nfl_player_id_2</th>\n",
       "      <th>contact</th>\n",
       "      <th>frame</th>\n",
       "    </tr>\n",
       "  </thead>\n",
       "  <tbody>\n",
       "    <tr>\n",
       "      <th>0</th>\n",
       "      <td>58168_003392_0_38590_43854</td>\n",
       "      <td>58168_003392</td>\n",
       "      <td>2020-09-11T03:01:48.100Z</td>\n",
       "      <td>0</td>\n",
       "      <td>38590</td>\n",
       "      <td>43854</td>\n",
       "      <td>0</td>\n",
       "      <td>299</td>\n",
       "    </tr>\n",
       "    <tr>\n",
       "      <th>1</th>\n",
       "      <td>58168_003392_0_38590_41257</td>\n",
       "      <td>58168_003392</td>\n",
       "      <td>2020-09-11T03:01:48.100Z</td>\n",
       "      <td>0</td>\n",
       "      <td>38590</td>\n",
       "      <td>41257</td>\n",
       "      <td>0</td>\n",
       "      <td>299</td>\n",
       "    </tr>\n",
       "    <tr>\n",
       "      <th>2</th>\n",
       "      <td>58168_003392_0_38590_41944</td>\n",
       "      <td>58168_003392</td>\n",
       "      <td>2020-09-11T03:01:48.100Z</td>\n",
       "      <td>0</td>\n",
       "      <td>38590</td>\n",
       "      <td>41944</td>\n",
       "      <td>0</td>\n",
       "      <td>299</td>\n",
       "    </tr>\n",
       "    <tr>\n",
       "      <th>3</th>\n",
       "      <td>58168_003392_0_38590_42386</td>\n",
       "      <td>58168_003392</td>\n",
       "      <td>2020-09-11T03:01:48.100Z</td>\n",
       "      <td>0</td>\n",
       "      <td>38590</td>\n",
       "      <td>42386</td>\n",
       "      <td>0</td>\n",
       "      <td>299</td>\n",
       "    </tr>\n",
       "    <tr>\n",
       "      <th>4</th>\n",
       "      <td>58168_003392_0_38590_47944</td>\n",
       "      <td>58168_003392</td>\n",
       "      <td>2020-09-11T03:01:48.100Z</td>\n",
       "      <td>0</td>\n",
       "      <td>38590</td>\n",
       "      <td>47944</td>\n",
       "      <td>0</td>\n",
       "      <td>299</td>\n",
       "    </tr>\n",
       "    <tr>\n",
       "      <th>...</th>\n",
       "      <td>...</td>\n",
       "      <td>...</td>\n",
       "      <td>...</td>\n",
       "      <td>...</td>\n",
       "      <td>...</td>\n",
       "      <td>...</td>\n",
       "      <td>...</td>\n",
       "      <td>...</td>\n",
       "    </tr>\n",
       "    <tr>\n",
       "      <th>4721613</th>\n",
       "      <td>58582_003121_91_48220_G</td>\n",
       "      <td>58582_003121</td>\n",
       "      <td>2021-10-12T02:42:29.100Z</td>\n",
       "      <td>91</td>\n",
       "      <td>48220</td>\n",
       "      <td>G</td>\n",
       "      <td>0</td>\n",
       "      <td>845</td>\n",
       "    </tr>\n",
       "    <tr>\n",
       "      <th>4721614</th>\n",
       "      <td>58582_003121_91_47906_G</td>\n",
       "      <td>58582_003121</td>\n",
       "      <td>2021-10-12T02:42:29.100Z</td>\n",
       "      <td>91</td>\n",
       "      <td>47906</td>\n",
       "      <td>G</td>\n",
       "      <td>0</td>\n",
       "      <td>845</td>\n",
       "    </tr>\n",
       "    <tr>\n",
       "      <th>4721615</th>\n",
       "      <td>58582_003121_91_38557_G</td>\n",
       "      <td>58582_003121</td>\n",
       "      <td>2021-10-12T02:42:29.100Z</td>\n",
       "      <td>91</td>\n",
       "      <td>38557</td>\n",
       "      <td>G</td>\n",
       "      <td>0</td>\n",
       "      <td>845</td>\n",
       "    </tr>\n",
       "    <tr>\n",
       "      <th>4721616</th>\n",
       "      <td>58582_003121_91_47872_G</td>\n",
       "      <td>58582_003121</td>\n",
       "      <td>2021-10-12T02:42:29.100Z</td>\n",
       "      <td>91</td>\n",
       "      <td>47872</td>\n",
       "      <td>G</td>\n",
       "      <td>0</td>\n",
       "      <td>845</td>\n",
       "    </tr>\n",
       "    <tr>\n",
       "      <th>4721617</th>\n",
       "      <td>58582_003121_91_52619_G</td>\n",
       "      <td>58582_003121</td>\n",
       "      <td>2021-10-12T02:42:29.100Z</td>\n",
       "      <td>91</td>\n",
       "      <td>52619</td>\n",
       "      <td>G</td>\n",
       "      <td>0</td>\n",
       "      <td>845</td>\n",
       "    </tr>\n",
       "  </tbody>\n",
       "</table>\n",
       "<p>4721618 rows × 8 columns</p>\n",
       "</div>"
      ],
      "text/plain": [
       "                         contact_id     game_play                  datetime  \\\n",
       "0        58168_003392_0_38590_43854  58168_003392  2020-09-11T03:01:48.100Z   \n",
       "1        58168_003392_0_38590_41257  58168_003392  2020-09-11T03:01:48.100Z   \n",
       "2        58168_003392_0_38590_41944  58168_003392  2020-09-11T03:01:48.100Z   \n",
       "3        58168_003392_0_38590_42386  58168_003392  2020-09-11T03:01:48.100Z   \n",
       "4        58168_003392_0_38590_47944  58168_003392  2020-09-11T03:01:48.100Z   \n",
       "...                             ...           ...                       ...   \n",
       "4721613     58582_003121_91_48220_G  58582_003121  2021-10-12T02:42:29.100Z   \n",
       "4721614     58582_003121_91_47906_G  58582_003121  2021-10-12T02:42:29.100Z   \n",
       "4721615     58582_003121_91_38557_G  58582_003121  2021-10-12T02:42:29.100Z   \n",
       "4721616     58582_003121_91_47872_G  58582_003121  2021-10-12T02:42:29.100Z   \n",
       "4721617     58582_003121_91_52619_G  58582_003121  2021-10-12T02:42:29.100Z   \n",
       "\n",
       "         step  nfl_player_id_1 nfl_player_id_2  contact  frame  \n",
       "0           0            38590           43854        0    299  \n",
       "1           0            38590           41257        0    299  \n",
       "2           0            38590           41944        0    299  \n",
       "3           0            38590           42386        0    299  \n",
       "4           0            38590           47944        0    299  \n",
       "...       ...              ...             ...      ...    ...  \n",
       "4721613    91            48220               G        0    845  \n",
       "4721614    91            47906               G        0    845  \n",
       "4721615    91            38557               G        0    845  \n",
       "4721616    91            47872               G        0    845  \n",
       "4721617    91            52619               G        0    845  \n",
       "\n",
       "[4721618 rows x 8 columns]"
      ]
     },
     "execution_count": 15,
     "metadata": {},
     "output_type": "execute_result"
    }
   ],
   "source": [
    "train_info"
   ]
  },
  {
   "cell_type": "code",
   "execution_count": null,
   "metadata": {},
   "outputs": [],
   "source": []
  },
  {
   "cell_type": "code",
   "execution_count": 14,
   "metadata": {},
   "outputs": [],
   "source": [
    "helmet = pd.read_csv(\"/Users/nickbachelder/Desktop/Personal Code/Kaggle/Contact/nfl-player-contact-detection/train_baseline_helmets.csv\")\n",
    "train_info = pd.read_csv(\"/Users/nickbachelder/Desktop/Personal Code/Kaggle/Contact/nfl-player-contact-detection/train_labels.csv\")\n",
    "tracking = pd.read_csv(\"/Users/nickbachelder/Desktop/Personal Code/Kaggle/Contact/nfl-player-contact-detection/train_player_tracking.csv\")\n",
    "train_info['frame'] = list(map(step_to_frame, train_info.step))"
   ]
  },
  {
   "cell_type": "code",
   "execution_count": 85,
   "metadata": {},
   "outputs": [
    {
     "data": {
      "text/html": [
       "<div>\n",
       "<style scoped>\n",
       "    .dataframe tbody tr th:only-of-type {\n",
       "        vertical-align: middle;\n",
       "    }\n",
       "\n",
       "    .dataframe tbody tr th {\n",
       "        vertical-align: top;\n",
       "    }\n",
       "\n",
       "    .dataframe thead th {\n",
       "        text-align: right;\n",
       "    }\n",
       "</style>\n",
       "<table border=\"1\" class=\"dataframe\">\n",
       "  <thead>\n",
       "    <tr style=\"text-align: right;\">\n",
       "      <th></th>\n",
       "      <th>contact_id</th>\n",
       "      <th>game_play</th>\n",
       "      <th>datetime</th>\n",
       "      <th>step</th>\n",
       "      <th>nfl_player_id_1</th>\n",
       "      <th>nfl_player_id_2</th>\n",
       "      <th>contact</th>\n",
       "      <th>frame</th>\n",
       "    </tr>\n",
       "  </thead>\n",
       "  <tbody>\n",
       "    <tr>\n",
       "      <th>809</th>\n",
       "      <td>58168_003392_3_41944_42565</td>\n",
       "      <td>58168_003392</td>\n",
       "      <td>2020-09-11T03:01:48.400Z</td>\n",
       "      <td>3</td>\n",
       "      <td>41944</td>\n",
       "      <td>42565</td>\n",
       "      <td>1</td>\n",
       "      <td>317</td>\n",
       "    </tr>\n",
       "    <tr>\n",
       "      <th>1062</th>\n",
       "      <td>58168_003392_4_41944_42565</td>\n",
       "      <td>58168_003392</td>\n",
       "      <td>2020-09-11T03:01:48.500Z</td>\n",
       "      <td>4</td>\n",
       "      <td>41944</td>\n",
       "      <td>42565</td>\n",
       "      <td>1</td>\n",
       "      <td>323</td>\n",
       "    </tr>\n",
       "    <tr>\n",
       "      <th>1163</th>\n",
       "      <td>58168_003392_4_37084_38567</td>\n",
       "      <td>58168_003392</td>\n",
       "      <td>2020-09-11T03:01:48.500Z</td>\n",
       "      <td>4</td>\n",
       "      <td>37084</td>\n",
       "      <td>38567</td>\n",
       "      <td>1</td>\n",
       "      <td>323</td>\n",
       "    </tr>\n",
       "    <tr>\n",
       "      <th>1289</th>\n",
       "      <td>58168_003392_5_43854_46445</td>\n",
       "      <td>58168_003392</td>\n",
       "      <td>2020-09-11T03:01:48.600Z</td>\n",
       "      <td>5</td>\n",
       "      <td>43854</td>\n",
       "      <td>46445</td>\n",
       "      <td>1</td>\n",
       "      <td>329</td>\n",
       "    </tr>\n",
       "    <tr>\n",
       "      <th>1315</th>\n",
       "      <td>58168_003392_5_41944_42565</td>\n",
       "      <td>58168_003392</td>\n",
       "      <td>2020-09-11T03:01:48.600Z</td>\n",
       "      <td>5</td>\n",
       "      <td>41944</td>\n",
       "      <td>42565</td>\n",
       "      <td>1</td>\n",
       "      <td>329</td>\n",
       "    </tr>\n",
       "    <tr>\n",
       "      <th>...</th>\n",
       "      <td>...</td>\n",
       "      <td>...</td>\n",
       "      <td>...</td>\n",
       "      <td>...</td>\n",
       "      <td>...</td>\n",
       "      <td>...</td>\n",
       "      <td>...</td>\n",
       "      <td>...</td>\n",
       "    </tr>\n",
       "    <tr>\n",
       "      <th>4720589</th>\n",
       "      <td>58582_003121_87_39971_G</td>\n",
       "      <td>58582_003121</td>\n",
       "      <td>2021-10-12T02:42:28.700Z</td>\n",
       "      <td>87</td>\n",
       "      <td>39971</td>\n",
       "      <td>G</td>\n",
       "      <td>1</td>\n",
       "      <td>821</td>\n",
       "    </tr>\n",
       "    <tr>\n",
       "      <th>4720842</th>\n",
       "      <td>58582_003121_88_39971_G</td>\n",
       "      <td>58582_003121</td>\n",
       "      <td>2021-10-12T02:42:28.800Z</td>\n",
       "      <td>88</td>\n",
       "      <td>39971</td>\n",
       "      <td>G</td>\n",
       "      <td>1</td>\n",
       "      <td>827</td>\n",
       "    </tr>\n",
       "    <tr>\n",
       "      <th>4721095</th>\n",
       "      <td>58582_003121_89_39971_G</td>\n",
       "      <td>58582_003121</td>\n",
       "      <td>2021-10-12T02:42:28.900Z</td>\n",
       "      <td>89</td>\n",
       "      <td>39971</td>\n",
       "      <td>G</td>\n",
       "      <td>1</td>\n",
       "      <td>833</td>\n",
       "    </tr>\n",
       "    <tr>\n",
       "      <th>4721348</th>\n",
       "      <td>58582_003121_90_39971_G</td>\n",
       "      <td>58582_003121</td>\n",
       "      <td>2021-10-12T02:42:29.000Z</td>\n",
       "      <td>90</td>\n",
       "      <td>39971</td>\n",
       "      <td>G</td>\n",
       "      <td>1</td>\n",
       "      <td>839</td>\n",
       "    </tr>\n",
       "    <tr>\n",
       "      <th>4721601</th>\n",
       "      <td>58582_003121_91_39971_G</td>\n",
       "      <td>58582_003121</td>\n",
       "      <td>2021-10-12T02:42:29.100Z</td>\n",
       "      <td>91</td>\n",
       "      <td>39971</td>\n",
       "      <td>G</td>\n",
       "      <td>1</td>\n",
       "      <td>845</td>\n",
       "    </tr>\n",
       "  </tbody>\n",
       "</table>\n",
       "<p>64522 rows × 8 columns</p>\n",
       "</div>"
      ],
      "text/plain": [
       "                         contact_id     game_play                  datetime  \\\n",
       "809      58168_003392_3_41944_42565  58168_003392  2020-09-11T03:01:48.400Z   \n",
       "1062     58168_003392_4_41944_42565  58168_003392  2020-09-11T03:01:48.500Z   \n",
       "1163     58168_003392_4_37084_38567  58168_003392  2020-09-11T03:01:48.500Z   \n",
       "1289     58168_003392_5_43854_46445  58168_003392  2020-09-11T03:01:48.600Z   \n",
       "1315     58168_003392_5_41944_42565  58168_003392  2020-09-11T03:01:48.600Z   \n",
       "...                             ...           ...                       ...   \n",
       "4720589     58582_003121_87_39971_G  58582_003121  2021-10-12T02:42:28.700Z   \n",
       "4720842     58582_003121_88_39971_G  58582_003121  2021-10-12T02:42:28.800Z   \n",
       "4721095     58582_003121_89_39971_G  58582_003121  2021-10-12T02:42:28.900Z   \n",
       "4721348     58582_003121_90_39971_G  58582_003121  2021-10-12T02:42:29.000Z   \n",
       "4721601     58582_003121_91_39971_G  58582_003121  2021-10-12T02:42:29.100Z   \n",
       "\n",
       "         step  nfl_player_id_1 nfl_player_id_2  contact  frame  \n",
       "809         3            41944           42565        1    317  \n",
       "1062        4            41944           42565        1    323  \n",
       "1163        4            37084           38567        1    323  \n",
       "1289        5            43854           46445        1    329  \n",
       "1315        5            41944           42565        1    329  \n",
       "...       ...              ...             ...      ...    ...  \n",
       "4720589    87            39971               G        1    821  \n",
       "4720842    88            39971               G        1    827  \n",
       "4721095    89            39971               G        1    833  \n",
       "4721348    90            39971               G        1    839  \n",
       "4721601    91            39971               G        1    845  \n",
       "\n",
       "[64522 rows x 8 columns]"
      ]
     },
     "execution_count": 85,
     "metadata": {},
     "output_type": "execute_result"
    }
   ],
   "source": [
    "train_info.loc[train_info.contact==1]"
   ]
  },
  {
   "cell_type": "code",
   "execution_count": null,
   "metadata": {},
   "outputs": [],
   "source": []
  },
  {
   "cell_type": "code",
   "execution_count": 1,
   "metadata": {},
   "outputs": [
    {
     "name": "stderr",
     "output_type": "stream",
     "text": [
      "/Users/nickbachelder/opt/anaconda3/envs/data-science/lib/python3.10/site-packages/tqdm/auto.py:21: TqdmWarning: IProgress not found. Please update jupyter and ipywidgets. See https://ipywidgets.readthedocs.io/en/stable/user_install.html\n",
      "  from .autonotebook import tqdm as notebook_tqdm\n"
     ]
    },
    {
     "name": "stdout",
     "output_type": "stream",
     "text": [
      "CUDA is not available. Using CPU.\n",
      "---Loading Train Dataloader----\n",
      "Data Sample Contains 20 observations.\n",
      "---Initializing Model----\n",
      "---Training----\n",
      "---Epoch 0----\n",
      "Batch 0\n"
     ]
    },
    {
     "ename": "ValueError",
     "evalue": "not enough values to unpack (expected 5, got 3)",
     "output_type": "error",
     "traceback": [
      "\u001b[0;31m---------------------------------------------------------------------------\u001b[0m",
      "\u001b[0;31mValueError\u001b[0m                                Traceback (most recent call last)",
      "Input \u001b[0;32mIn [1]\u001b[0m, in \u001b[0;36m<cell line: 47>\u001b[0;34m()\u001b[0m\n\u001b[1;32m     51\u001b[0m \u001b[38;5;28;01mfor\u001b[39;00m batch_idx, (features, labels) \u001b[38;5;129;01min\u001b[39;00m \u001b[38;5;28menumerate\u001b[39m(dataloader):\n\u001b[1;32m     52\u001b[0m     \u001b[38;5;28mprint\u001b[39m(\u001b[38;5;124mf\u001b[39m\u001b[38;5;124m\"\u001b[39m\u001b[38;5;124mBatch \u001b[39m\u001b[38;5;132;01m{\u001b[39;00mbatch_idx\u001b[38;5;132;01m}\u001b[39;00m\u001b[38;5;124m\"\u001b[39m)\n\u001b[0;32m---> 53\u001b[0m     x1, x2, x3, x4, x5 \u001b[38;5;241m=\u001b[39m features\n\u001b[1;32m     54\u001b[0m     x1, x2, x3, x4, x5, labels \u001b[38;5;241m=\u001b[39m x1\u001b[38;5;241m.\u001b[39mto(device), x2\u001b[38;5;241m.\u001b[39mto(device), x3\u001b[38;5;241m.\u001b[39mto(device), x4\u001b[38;5;241m.\u001b[39mto(device), x5\u001b[38;5;241m.\u001b[39mto(device), labels\u001b[38;5;241m.\u001b[39mto(device)\n\u001b[1;32m     55\u001b[0m     \u001b[38;5;66;03m# Forward pass\u001b[39;00m\n",
      "\u001b[0;31mValueError\u001b[0m: not enough values to unpack (expected 5, got 3)"
     ]
    }
   ],
   "source": [
    "import pandas as pd\n",
    "import numpy as np\n",
    "import cv2\n",
    "import matplotlib.pyplot as plt\n",
    "import os\n",
    "from tqdm import tqdm\n",
    "from pytorchvideo.data.encoded_video import EncodedVideo\n",
    "import torch\n",
    "from torch.utils.data import Dataset, DataLoader\n",
    "import torchvision.transforms as transforms\n",
    "import torch.optim as optim\n",
    "from tqdm import tqdm\n",
    "from objects import step_to_frame, create_boxes_dict, ContactDataset\n",
    "from models import Encoder, LSTMModel, ContactNet\n",
    "import torch\n",
    "import torch.nn as nn\n",
    "import torch.nn.functional as F\n",
    "\n",
    "if torch.cuda.is_available():\n",
    "    device = torch.device(\"cuda\")  # Use GPU\n",
    "    print(\"CUDA is available! Using GPU.\")\n",
    "else:\n",
    "    device = torch.device(\"cpu\")  # Use CPU\n",
    "    print(\"CUDA is not available. Using CPU.\")\n",
    "\n",
    "print(\"---Loading Train Dataloader----\")\n",
    "dataset = ContactDataset(os.getcwd() + \"/nfl-player-contact-detection/train_labels.csv\",\n",
    "                      ground=False, feature_size=256, num_back_forward_steps=1, skips=1, distance_cutoff=5, num_per_classification=10)\n",
    "dataloader = DataLoader(dataset, batch_size=256, shuffle=True)\n",
    "\n",
    "image_size = 128\n",
    "input_size = 100  # Output size of the Encoder's fully connected layer\n",
    "hidden_size = 64\n",
    "num_layers = 2\n",
    "dropout = 0.1\n",
    "learning_rate = 0.001\n",
    "num_epochs = 10\n",
    "\n",
    "print(\"---Initializing Model----\")\n",
    "combined_model = ContactNet(image_size, input_size, hidden_size, num_layers, dropout)\n",
    "combined_model.to(device)\n",
    "criterion = nn.BCELoss()  # Binary Cross Entropy Loss for binary classification\n",
    "optimizer = optim.Adam(combined_model.parameters(), lr=learning_rate)\n",
    "\n",
    "\n",
    "print(\"---Training----\")\n",
    "for epoch in range(num_epochs):\n",
    "    # Training loop\n",
    "    combined_model.train()\n",
    "    print(f\"---Epoch {epoch}----\")\n",
    "    for batch_idx, (features, labels) in enumerate(dataloader):\n",
    "        print(f\"Batch {batch_idx}\")\n",
    "        x1, x2, x3, x4, x5 = features\n",
    "        x1, x2, x3, x4, x5, labels = x1.to(device), x2.to(device), x3.to(device), x4.to(device), x5.to(device), labels.to(device)\n",
    "        # Forward pass\n",
    "        outputs = combined_model(x1, x2, x3, x4, x5)\n",
    "        loss = criterion(outputs.squeeze(), labels.float())  # Compute loss\n",
    "        \n",
    "        # Backward pass and optimization\n",
    "        optimizer.zero_grad()\n",
    "        loss.backward()\n",
    "        optimizer.step()\n",
    "        \n",
    "        # Print loss\n",
    "        if (batch_idx + 1) % 100 == 0:\n",
    "            print(f'Epoch [{epoch+1}/{num_epochs}], Batch [{batch_idx+1}/{len(dataloader)}], Loss: {loss.item():.4f}')"
   ]
  },
  {
   "cell_type": "code",
   "execution_count": null,
   "metadata": {},
   "outputs": [],
   "source": []
  }
 ],
 "metadata": {
  "kernelspec": {
   "display_name": "Python 3",
   "language": "python",
   "name": "python3"
  },
  "language_info": {
   "codemirror_mode": {
    "name": "ipython",
    "version": 3
   },
   "file_extension": ".py",
   "mimetype": "text/x-python",
   "name": "python",
   "nbconvert_exporter": "python",
   "pygments_lexer": "ipython3",
   "version": "3.10.13"
  }
 },
 "nbformat": 4,
 "nbformat_minor": 2
}
